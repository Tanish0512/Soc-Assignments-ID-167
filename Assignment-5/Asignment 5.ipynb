{
 "cells": [
  {
   "cell_type": "code",
   "execution_count": 1,
   "id": "05ebdc35-4b3e-41be-8310-075095d7d75d",
   "metadata": {},
   "outputs": [],
   "source": [
    "import pandas as pd\n",
    "import numpy as np\n",
    "from datetime import datetime\n",
    "from scipy.stats import norm"
   ]
  },
  {
   "cell_type": "code",
   "execution_count": 2,
   "id": "9bec8b67-e5ba-439c-8f99-49b3c61f7222",
   "metadata": {},
   "outputs": [],
   "source": [
    "df = pd.read_csv(\"NIFTY50_1min_01FEB.csv\")"
   ]
  },
  {
   "cell_type": "code",
   "execution_count": 3,
   "id": "f09b863d-ea25-42b4-b1d9-9d4a09d43d11",
   "metadata": {},
   "outputs": [],
   "source": [
    "r = 0.07\n",
    "sigma = 0.15\n",
    "start_date = datetime.strptime('2023-02-01', '%Y-%m-%d')\n",
    "expiry_date = datetime.strptime('2023-02-23', '%Y-%m-%d')\n",
    "time_to_expiry = (expiry_date - start_date).days / 365\n",
    "spot_price = df['Open'].iloc[0]\n",
    "strike_price = 17750"
   ]
  },
  {
   "cell_type": "code",
   "execution_count": 4,
   "id": "1f81faf4-2505-40bf-a308-506d5a4046e4",
   "metadata": {},
   "outputs": [],
   "source": [
    "class BlackScholesModel:\n",
    "    def __init__(self, S, K, r, T, sigma):\n",
    "        self.S = S\n",
    "        self.K = K\n",
    "        self.r = r\n",
    "        self.T = T\n",
    "        self.sigma = sigma\n",
    "    \n",
    "    def d1(self):\n",
    "        return (np.log(self.S / self.K) + (self.r + 0.5 * self.sigma**2) * self.T) / (self.sigma * np.sqrt(self.T))\n",
    "\n",
    "    def d2(self):\n",
    "        return self.d1() - self.sigma * np.sqrt(self.T)\n",
    "    \n",
    "    def call_option_price(self):\n",
    "        return self.S * norm.cdf(self.d1()) - self.K * np.exp(-self.r * self.T) * norm.cdf(self.d2())\n",
    "\n",
    "    def put_option_price(self):\n",
    "        return self.K * np.exp(-self.r * self.T) * norm.cdf(-self.d2()) - self.S * norm.cdf(-self.d1())"
   ]
  },
  {
   "cell_type": "code",
   "execution_count": 5,
   "id": "2fa11fd6-b2ba-44d1-8211-a2e16009198c",
   "metadata": {},
   "outputs": [],
   "source": [
    "bs_model = BlackScholesModel(spot_price, strike_price, r, sigma, time_to_expiry)"
   ]
  },
  {
   "cell_type": "code",
   "execution_count": 6,
   "id": "95664ae0-76fe-46b9-9925-5cd4be73969b",
   "metadata": {},
   "outputs": [],
   "source": [
    "call_price = bs_model.call_option_price()\n",
    "put_price = bs_model.put_option_price()"
   ]
  },
  {
   "cell_type": "code",
   "execution_count": 7,
   "id": "8848a7bc-dcfe-4e00-b61f-703e02f0b137",
   "metadata": {},
   "outputs": [
    {
     "name": "stdout",
     "output_type": "stream",
     "text": [
      "Call Option Price: 316.8464614166387\n",
      "Put Option Price: 69.84651449685134\n"
     ]
    }
   ],
   "source": [
    "print(f\"Call Option Price: {call_price}\")\n",
    "print(f\"Put Option Price: {put_price}\")"
   ]
  }
 ],
 "metadata": {
  "kernelspec": {
   "display_name": "Python 3 (ipykernel)",
   "language": "python",
   "name": "python3"
  },
  "language_info": {
   "codemirror_mode": {
    "name": "ipython",
    "version": 3
   },
   "file_extension": ".py",
   "mimetype": "text/x-python",
   "name": "python",
   "nbconvert_exporter": "python",
   "pygments_lexer": "ipython3",
   "version": "3.11.4"
  }
 },
 "nbformat": 4,
 "nbformat_minor": 5
}
